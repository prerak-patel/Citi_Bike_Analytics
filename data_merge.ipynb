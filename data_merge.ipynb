{
 "cells": [
  {
   "cell_type": "code",
   "execution_count": null,
   "metadata": {},
   "outputs": [],
   "source": [
    "import pandas as pd\n",
    "import glob\n",
    "import datetime as dt"
   ]
  },
  {
   "cell_type": "markdown",
   "metadata": {},
   "source": [
    "## Summer Data"
   ]
  },
  {
   "cell_type": "code",
   "execution_count": 19,
   "metadata": {},
   "outputs": [],
   "source": [
    "path = r'./data/summer/'\n",
    "all_files = glob.glob(path + \"/*.csv\")"
   ]
  },
  {
   "cell_type": "code",
   "execution_count": 20,
   "metadata": {},
   "outputs": [
    {
     "name": "stdout",
     "output_type": "stream",
     "text": [
      "./data/datasets/summer/JC-201908-citibike-tripdata.csv\n",
      "./data/datasets/summer/JC-201906-citibike-tripdata.csv\n",
      "./data/datasets/summer/JC-201807-citibike-tripdata.csv\n",
      "./data/datasets/summer/JC-201808-citibike-tripdata.csv\n",
      "./data/datasets/summer/JC-201907-citibike-tripdata.csv\n",
      "./data/datasets/summer/JC-201806-citibike-tripdata.csv\n"
     ]
    }
   ],
   "source": [
    "summer = []\n",
    "\n",
    "for filename in all_files:\n",
    "    df = pd.read_csv(filename, index_col=None, header=0)\n",
    "    summer.append(df)\n",
    "\n",
    "summer_df = pd.concat(summer,ignore_index=True)\n"
   ]
  },
  {
   "cell_type": "code",
   "execution_count": 21,
   "metadata": {},
   "outputs": [],
   "source": [
    "summer_df['starttime'] = pd.to_datetime(summer_df['starttime']) \n",
    "summer_df['stoptime'] = pd.to_datetime(summer_df['stoptime'])\n",
    "summer_df = summer_df.sort_values(by='starttime')"
   ]
  },
  {
   "cell_type": "code",
   "execution_count": 22,
   "metadata": {},
   "outputs": [],
   "source": [
    "summer_df.to_csv (r'./data/merged/summer_data.csv', index = False)"
   ]
  },
  {
   "cell_type": "markdown",
   "metadata": {},
   "source": [
    "## Winter Data"
   ]
  },
  {
   "cell_type": "code",
   "execution_count": 23,
   "metadata": {},
   "outputs": [],
   "source": [
    "path = r'./data/winter/'\n",
    "all_files = glob.glob(path + \"/*.csv\")"
   ]
  },
  {
   "cell_type": "code",
   "execution_count": 24,
   "metadata": {},
   "outputs": [],
   "source": [
    "winter = []\n",
    "\n",
    "for filename in all_files:\n",
    "    df = pd.read_csv(filename, index_col=None, header=0)\n",
    "    winter.append(df)\n",
    "\n",
    "winter_df = pd.concat(winter,ignore_index=True)"
   ]
  },
  {
   "cell_type": "code",
   "execution_count": 25,
   "metadata": {},
   "outputs": [],
   "source": [
    "winter_df['starttime'] = pd.to_datetime(winter_df['starttime']) \n",
    "winter_df['stoptime'] = pd.to_datetime(winter_df['stoptime'])\n",
    "winter_df = winter_df.sort_values(by='starttime')"
   ]
  },
  {
   "cell_type": "code",
   "execution_count": 26,
   "metadata": {},
   "outputs": [],
   "source": [
    "winter_df.to_csv (r'./data/merged/winter_data.csv', index = False)"
   ]
  }
 ],
 "metadata": {
  "kernelspec": {
   "display_name": "Python 3",
   "language": "python",
   "name": "python3"
  },
  "language_info": {
   "codemirror_mode": {
    "name": "ipython",
    "version": 3
   },
   "file_extension": ".py",
   "mimetype": "text/x-python",
   "name": "python",
   "nbconvert_exporter": "python",
   "pygments_lexer": "ipython3",
   "version": "3.7.4"
  }
 },
 "nbformat": 4,
 "nbformat_minor": 4
}
